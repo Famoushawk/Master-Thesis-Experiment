{
 "cells": [
  {
   "cell_type": "code",
   "execution_count": null,
   "metadata": {},
   "outputs": [],
   "source": [
    "import pandas as pd\n",
    "import numpy as np\n",
    "\n",
    "#load the data\n",
    "data = pd.read_excel('/path/to/your/file.xlsx')\n",
    "\n",
    "#clean the data\n",
    "def clean_score(score):\n",
    "    if pd.isnull(score):\n",
    "        return None\n",
    "    if isinstance(score, str) and ',' in score:\n",
    "        score = score.split(',')[0]\n",
    "    return pd.to_numeric(score, errors='coerce')\n",
    "\n",
    "for column in data.columns[3:]:\n",
    "    data[column] = data[column].apply(clean_score)"
   ]
  },
  {
   "cell_type": "code",
   "execution_count": null,
   "metadata": {},
   "outputs": [],
   "source": [
    "#split the dataset based on AI usage\n",
    "tasks_without_ai = data[data['With AI'] == 'No'].iloc[:, 3:12]\n",
    "tasks_with_ai = data[data['With AI'] == 'Yes'].iloc[:, 3:12]\n",
    "\n",
    "#statistical analysis\n",
    "stats_without_ai = tasks_without_ai.describe().transpose()\n",
    "stats_with_ai = tasks_with_ai.describe().transpose()\n",
    "\n",
    "print(stats_without_ai, '\\n', stats_with_ai)\n"
   ]
  },
  {
   "cell_type": "code",
   "execution_count": null,
   "metadata": {},
   "outputs": [],
   "source": [
    "import matplotlib.pyplot as plt\n",
    "import seaborn as sns\n",
    "\n",
    "#prepare data for visualization\n",
    "melted_data_time = pd.melt(data, id_vars=['With AI'], value_vars=[f'Task {i}' for i in range(1, 10)],\n",
    "                           var_name='Task', value_name='Time')\n",
    "\n",
    "#create boxplot\n",
    "plt.figure(figsize=(12, 6))\n",
    "sns.boxplot(x='Task', y='Time', hue='With AI', data=melted_data_time)\n",
    "plt.title('Comparison of Time Taken for Tasks With and Without AI')\n",
    "plt.ylabel('Time (seconds)')\n",
    "plt.xlabel('Task')\n",
    "plt.legend(title='With AI')\n",
    "plt.grid(True)\n",
    "plt.show()\n"
   ]
  },
  {
   "cell_type": "code",
   "execution_count": null,
   "metadata": {},
   "outputs": [],
   "source": [
    "#histogram for task times without AI\n",
    "tasks_without_ai.plot(kind='hist', bins=15, alpha=0.5, title='Histogram of Task Times Without AI')\n",
    "plt.xlabel('Time (seconds)')\n",
    "plt.show()\n",
    "\n",
    "#histogram for task times with AI\n",
    "tasks_with_ai.plot(kind='hist', bins=15, alpha=0.5, title='Histogram of Task Times With AI')\n",
    "plt.xlabel('Time (seconds)')\n",
    "plt.show()\n"
   ]
  },
  {
   "cell_type": "code",
   "execution_count": null,
   "metadata": {},
   "outputs": [],
   "source": [
    "from scipy.stats import ttest_rel\n",
    "\n",
    "t_stat, p_value = ttest_rel(tasks_without_ai['Task 1'].dropna(), tasks_with_ai['Task 1'].dropna())\n",
    "print(f'T-Statistic: {t_stat}, P-value: {p_value}')\n"
   ]
  },
  {
   "cell_type": "code",
   "execution_count": null,
   "metadata": {},
   "outputs": [],
   "source": [
    "#export cleaned data to CSV\n",
    "data.to_csv('/path/to/your/output.csv', index=False)\n"
   ]
  }
 ],
 "metadata": {
  "language_info": {
   "name": "python"
  }
 },
 "nbformat": 4,
 "nbformat_minor": 2
}
